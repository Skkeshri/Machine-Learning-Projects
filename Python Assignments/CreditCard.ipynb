{
 "cells": [
  {
   "cell_type": "code",
   "execution_count": 4,
   "metadata": {},
   "outputs": [
    {
     "name": "stdout",
     "output_type": "stream",
     "text": [
      "Shubham\n"
     ]
    }
   ],
   "source": [
    "class CreditCard:\n",
    "    def __init__(self,customer,bank,acnt,limit):\n",
    "        self._customer = customer\n",
    "        self._bank = bank\n",
    "        self._account = acnt\n",
    "        self._limit = limit\n",
    "        self._balanace=0\n",
    "    \n",
    "    def get_customer(self):\n",
    "        return self._customer\n",
    "    \n",
    "    def get_bank(self):\n",
    "        return self._bank\n",
    "    \n",
    "    def get_account(self):\n",
    "        return self._account\n",
    "    \n",
    "    def get_limit(self):\n",
    "        return self._limit\n",
    "    \n",
    "    def get_balance(self):\n",
    "        return self._balance\n",
    "\n",
    "\n",
    "if __name__ == '__main__':\n",
    "    c= CreditCard(\"Shubham\",\"SBI\",32900356082,3100)\n",
    "    print(c.get_customer())"
   ]
  },
  {
   "cell_type": "code",
   "execution_count": null,
   "metadata": {},
   "outputs": [],
   "source": []
  }
 ],
 "metadata": {
  "kernelspec": {
   "display_name": "Python 3",
   "language": "python",
   "name": "python3"
  },
  "language_info": {
   "codemirror_mode": {
    "name": "ipython",
    "version": 3
   },
   "file_extension": ".py",
   "mimetype": "text/x-python",
   "name": "python",
   "nbconvert_exporter": "python",
   "pygments_lexer": "ipython3",
   "version": "3.7.0"
  }
 },
 "nbformat": 4,
 "nbformat_minor": 2
}
