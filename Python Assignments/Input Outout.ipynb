{
 "cells": [
  {
   "cell_type": "code",
   "execution_count": 4,
   "metadata": {},
   "outputs": [
    {
     "name": "stdout",
     "output_type": "stream",
     "text": [
      "enter number to be entered in list : 1\n",
      "enter number to be entered in list : 2\n",
      "enter number to be entered in list : 6\n",
      "num: [1, 2, 6]\n"
     ]
    }
   ],
   "source": [
    "num=[]\n",
    "for i in range(0,3):\n",
    "\tnum.append(int(input(\"enter number to be entered in list : \")))\n",
    "print(\"num:\",num)"
   ]
  },
  {
   "cell_type": "code",
   "execution_count": 6,
   "metadata": {},
   "outputs": [
    {
     "name": "stdout",
     "output_type": "stream",
     "text": [
      "the value of b is 2 and a is 1\n"
     ]
    }
   ],
   "source": [
    "a=1;b=2\n",
    "print(\"the value of b is {1} and a is {0}\".format(a,b))"
   ]
  },
  {
   "cell_type": "code",
   "execution_count": null,
   "metadata": {},
   "outputs": [],
   "source": []
  }
 ],
 "metadata": {
  "kernelspec": {
   "display_name": "Python 3",
   "language": "python",
   "name": "python3"
  },
  "language_info": {
   "codemirror_mode": {
    "name": "ipython",
    "version": 3
   },
   "file_extension": ".py",
   "mimetype": "text/x-python",
   "name": "python",
   "nbconvert_exporter": "python",
   "pygments_lexer": "ipython3",
   "version": "3.7.0"
  }
 },
 "nbformat": 4,
 "nbformat_minor": 2
}
