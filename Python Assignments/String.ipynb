{
 "cells": [
  {
   "cell_type": "code",
   "execution_count": 1,
   "metadata": {},
   "outputs": [
    {
     "name": "stdout",
     "output_type": "stream",
     "text": [
      "['Python', 'Program', 'to', 'Sort', 'words', 'in', 'Alphabatical', 'order']\n",
      "Alphabatical\n",
      "Program\n",
      "Python\n",
      "Sort\n",
      "in\n",
      "order\n",
      "to\n",
      "words\n"
     ]
    }
   ],
   "source": [
    "mystr  = \"Python Program to Sort words in Alphabatical order\"\n",
    "words = mystr.split()\n",
    "print(words)\n",
    "words.sort()\n",
    "for word in words:\n",
    "    print(word)"
   ]
  },
  {
   "cell_type": "code",
   "execution_count": null,
   "metadata": {},
   "outputs": [],
   "source": []
  }
 ],
 "metadata": {
  "kernelspec": {
   "display_name": "Python 3",
   "language": "python",
   "name": "python3"
  },
  "language_info": {
   "codemirror_mode": {
    "name": "ipython",
    "version": 3
   },
   "file_extension": ".py",
   "mimetype": "text/x-python",
   "name": "python",
   "nbconvert_exporter": "python",
   "pygments_lexer": "ipython3",
   "version": "3.7.0"
  }
 },
 "nbformat": 4,
 "nbformat_minor": 2
}
